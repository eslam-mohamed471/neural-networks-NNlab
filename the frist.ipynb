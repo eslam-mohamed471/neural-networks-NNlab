{
 "cells": [
  {
   "cell_type": "code",
   "execution_count": 1,
   "metadata": {},
   "outputs": [],
   "source": [
    "import numpy as np\n",
    "import tensorflow as tf\n",
    "import matplotlib.pyplot as plt"
   ]
  },
  {
   "cell_type": "code",
   "execution_count": 2,
   "metadata": {},
   "outputs": [],
   "source": [
    "N, D, H= 64, 1000, 100\n",
    "x = tf.placeholder(tf.float32, shape=(N, D))\n",
    "y = tf.placeholder(tf.float32, shape=(N, D))\n",
    "w1 = tf.placeholder(tf.float32, shape=(D, H))\n",
    "w2 = tf.placeholder(tf.float32, shape=(H, D))\n",
    "h= tf.maximum(tf.matmul(x,w1), 0)\n",
    "y_pred = tf.matmul(h, w2)\n",
    "diff =y_pred-y\n",
    "loss = tf.reduce_mean(tf.reduce_sum(diff ** 2, axis=1))\n",
    "grad_w1, grad_w2 = tf.gradients(loss ,[w1, w2])"
   ]
  },
  {
   "cell_type": "code",
   "execution_count": 3,
   "metadata": {},
   "outputs": [
    {
     "name": "stdout",
     "output_type": "stream",
     "text": [
      "[52227224.0, array([[ -3951.9868  ,  -2562.762   ,  -1232.1353  , ...,    961.771   ,\n",
      "         11625.852   ,    147.87695 ],\n",
      "       [  2726.3838  ,  -5665.5483  ,  14512.163   , ...,   -843.3457  ,\n",
      "         -1855.1565  ,  -1360.7648  ],\n",
      "       [ -6751.904   ,  -5751.1284  ,  -6284.0845  , ...,  -8266.558   ,\n",
      "        -16514.621   ,  -5791.5127  ],\n",
      "       ...,\n",
      "       [   105.497986,  -3987.819   ,   5198.594   , ...,  -8542.439   ,\n",
      "          3521.6506  ,    455.88596 ],\n",
      "       [  2855.9116  ,   7054.977   ,  -2015.1853  , ...,   9940.103   ,\n",
      "         14231.761   ,   2057.4326  ],\n",
      "       [ -4174.0405  ,   2194.4595  ,   1768.5593  , ...,    741.89813 ,\n",
      "          6693.834   ,  -4750.256   ]], dtype=float32), array([[-6485.2905 ,  2362.7617 , -1545.5596 , ..., -1381.7654 ,\n",
      "        -7764.0615 ,  2104.382  ],\n",
      "       [-2634.0693 ,  1485.8634 , -2466.4243 , ..., -4360.591  ,\n",
      "        -3650.8953 ,    53.27057],\n",
      "       [-3973.8423 ,  1987.3411 , -3076.7307 , ..., -1093.4708 ,\n",
      "        -6328.859  ,  -736.56   ],\n",
      "       ...,\n",
      "       [-5508.778  ,  -279.32648, -5108.2256 , ..., -2068.2405 ,\n",
      "        -8209.682  ,  -429.58914],\n",
      "       [-3806.1262 ,  1131.5464 , -3958.7354 , ..., -5852.782  ,\n",
      "        -5158.6475 , -1279.3186 ],\n",
      "       [-3095.9465 ,  2457.7214 , -3028.355  , ..., -2461.3352 ,\n",
      "        -6591.2686 ,  -109.451  ]], dtype=float32)]\n"
     ]
    }
   ],
   "source": [
    "with tf.Session() as sess:\n",
    "    values = {x: np.random.randn(N, D),\n",
    "              w1: np.random.randn(D, H),\n",
    "              w2: np.random.randn(H, D),\n",
    "              y: np.random.randn(N, D)}\n",
    "    out = sess.run([loss, grad_w1, grad_w2],\n",
    "                    feed_dict=values)\n",
    "    loss_val, grad_w1_val, grad_w2_val = out\n",
    "    print(out)"
   ]
  },
  {
   "cell_type": "code",
   "execution_count": null,
   "metadata": {},
   "outputs": [],
   "source": []
  }
 ],
 "metadata": {
  "kernelspec": {
   "display_name": "NNlab",
   "language": "python",
   "name": "nnlab"
  },
  "language_info": {
   "codemirror_mode": {
    "name": "ipython",
    "version": 3
   },
   "file_extension": ".py",
   "mimetype": "text/x-python",
   "name": "python",
   "nbconvert_exporter": "python",
   "pygments_lexer": "ipython3",
   "version": "3.6.6"
  }
 },
 "nbformat": 4,
 "nbformat_minor": 2
}
